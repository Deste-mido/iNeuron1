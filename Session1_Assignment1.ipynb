{
 "cells": [
  {
   "cell_type": "code",
   "execution_count": 15,
   "metadata": {},
   "outputs": [
    {
     "name": "stdout",
     "output_type": "stream",
     "text": [
      "\u001b[94m\u001b[4mLINK\u001b[0m\n"
     ]
    }
   ],
   "source": [
    "#Task 1.1\n",
    "class color:\n",
    "   BLUE = '\\033[94m'\n",
    "   UNDERLINE = '\\033[4m'\n",
    "   END = '\\033[0m'\n",
    "print(color.BLUE+color.UNDERLINE+'LINK'+color.END)"
   ]
  },
  {
   "cell_type": "code",
   "execution_count": 16,
   "metadata": {},
   "outputs": [
    {
     "name": "stdout",
     "output_type": "stream",
     "text": [
      "2002,2009,2016,2023,2037,2044,2051,2058,2072,2079,2086,2093,2107,2114,2121,2128,2142,2149,2156,2163,2177,2184,2191,2198,2212,2219,2226,2233,2247,2254,2261,2268,2282,2289,2296,2303,2317,2324,2331,2338,2352,2359,2366,2373,2387,2394,2401,2408,2422,2429,2436,2443,2457,2464,2471,2478,2492,2499,2506,2513,2527,2534,2541,2548,2562,2569,2576,2583,2597,2604,2611,2618,2632,2639,2646,2653,2667,2674,2681,2688,2702,2709,2716,2723,2737,2744,2751,2758,2772,2779,2786,2793,2807,2814,2821,2828,2842,2849,2856,2863,2877,2884,2891,2898,2912,2919,2926,2933,2947,2954,2961,2968,2982,2989,2996,3003,3017,3024,3031,3038,3052,3059,3066,3073,3087,3094,3101,3108,3122,3129,3136,3143,3157,3164,3171,3178,3192,3199,\n"
     ]
    }
   ],
   "source": [
    "#Task 1.2\n",
    "i =2000\n",
    "text = \"\"\n",
    "while i<3200:\n",
    "    if i%7 ==0:\n",
    "        if i%5 != 0:\n",
    "            text = text+ str(i) + ','\n",
    "    i= i+1\n",
    "print(text)\n"
   ]
  },
  {
   "cell_type": "code",
   "execution_count": 19,
   "metadata": {},
   "outputs": [
    {
     "name": "stdout",
     "output_type": "stream",
     "text": [
      "Enter your first name: John\n",
      "Enter your last name: Doe\n",
      "Doe John\n"
     ]
    }
   ],
   "source": [
    "#Task 1.3\n",
    "firstname = input(\"Enter your first name: \")\n",
    "lastname = input(\"Enter your last name: \")\n",
    "print( lastname+ \" \"+ firstname)"
   ]
  },
  {
   "cell_type": "code",
   "execution_count": 29,
   "metadata": {},
   "outputs": [
    {
     "name": "stdout",
     "output_type": "stream",
     "text": [
      "The volume of the Sphere is: 7238.229cm³\n"
     ]
    }
   ],
   "source": [
    "#Task 1.4\n",
    "from math import pi\n",
    "volume = 4/3*pi*12*12*12 \n",
    "print(\"The volume of the Sphere is: {0:.{1}f}cm\\u00b3\".format(volume,3 ))\n"
   ]
  },
  {
   "cell_type": "code",
   "execution_count": 37,
   "metadata": {},
   "outputs": [
    {
     "name": "stdout",
     "output_type": "stream",
     "text": [
      "Enter your sequesnce: 3,4,56,766,43,1,2,4\n",
      "['3', '4', '56', '766', '43', '1', '2', '4']\n"
     ]
    }
   ],
   "source": [
    "#Task 2.1\n",
    "text = input(\"Enter your sequesnce: \")\n",
    "a = text.split(\",\")\n",
    "print(a)"
   ]
  },
  {
   "cell_type": "code",
   "execution_count": 28,
   "metadata": {},
   "outputs": [
    {
     "name": "stdout",
     "output_type": "stream",
     "text": [
      "* \n",
      "* * \n",
      "* * * \n",
      "* * * * \n",
      "* * * * * \n",
      "* * * * \n",
      "* * * \n",
      "* * \n",
      "* \n"
     ]
    }
   ],
   "source": [
    "#Task 2.2\n",
    "a=6\n",
    "for i in range(1,6,1):\n",
    "    for j in range(i):\n",
    "        print ('*', end=' ')\n",
    "    print()\n",
    "for i in range(4,0,-1):\n",
    "    for j in range(i):\n",
    "        print ('*',end=' ')\n",
    "    print()"
   ]
  },
  {
   "cell_type": "code",
   "execution_count": 32,
   "metadata": {},
   "outputs": [
    {
     "name": "stdout",
     "output_type": "stream",
     "text": [
      "Enter your text here: AcadGild\n",
      "dliGdacA\n"
     ]
    }
   ],
   "source": [
    "#Task 2.3\n",
    "text = input(\"Enter your text here: \") [::-1]\n",
    "print(text)\n"
   ]
  },
  {
   "cell_type": "code",
   "execution_count": 18,
   "metadata": {},
   "outputs": [
    {
     "name": "stdout",
     "output_type": "stream",
     "text": [
      "WE, THE PEOPLE OF INDIA, \n",
      "      having solemnly resolved to constitute India into a SOVEREIGN, !\n",
      "             SOCIALIST, SECULAR, DEMOCRATIC REPUBLIC \n",
      "              and to secure to all its citizens\n"
     ]
    }
   ],
   "source": [
    "#Task 2.4\n",
    "text = \"\"\"WE, THE PEOPLE OF INDIA, having solemnly resolved to constitute India into a SOVEREIGN, SOCIALIST, SECULAR, DEMOCRATIC REPUBLIC and to secure to all its citizens\"\"\"\n",
    "print(text[0:25]) \n",
    "text2=(text[25:88] + \"!\")\n",
    "#text2 = text2.center(5) or print (text2.center(5)) doesnt seem to work, tried reaching support but no response, google didnt help either\n",
    "print (\"     \",text2) \n",
    "text3 = text[88:128]\n",
    "print(\"            \",text3)\n",
    "text4 = text[128:162]\n",
    "print(\"             \",text4)"
   ]
  }
 ],
 "metadata": {
  "kernelspec": {
   "display_name": "Python 3",
   "language": "python",
   "name": "python3"
  },
  "language_info": {
   "codemirror_mode": {
    "name": "ipython",
    "version": 3
   },
   "file_extension": ".py",
   "mimetype": "text/x-python",
   "name": "python",
   "nbconvert_exporter": "python",
   "pygments_lexer": "ipython3",
   "version": "3.7.4"
  }
 },
 "nbformat": 4,
 "nbformat_minor": 2
}
